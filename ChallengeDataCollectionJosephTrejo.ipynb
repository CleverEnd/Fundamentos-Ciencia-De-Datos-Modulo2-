{
  "nbformat": 4,
  "nbformat_minor": 0,
  "metadata": {
    "colab": {
      "name": "ChallengeDataCollectionJosephTrejo.ipynb",
      "provenance": [],
      "include_colab_link": true
    },
    "language_info": {
      "name": "python"
    },
    "kernelspec": {
      "name": "python3",
      "display_name": "Python 3"
    }
  },
  "cells": [
    {
      "cell_type": "markdown",
      "metadata": {
        "id": "view-in-github",
        "colab_type": "text"
      },
      "source": [
        "<a href=\"https://colab.research.google.com/github/CleverEnd/Fundamentos-Ciencia-De-Datos-Modulo2-/blob/main/ChallengeDataCollectionJosephTrejo.ipynb\" target=\"_parent\"><img src=\"https://colab.research.google.com/assets/colab-badge.svg\" alt=\"Open In Colab\"/></a>"
      ]
    },
    {
      "cell_type": "markdown",
      "metadata": {
        "id": "cBZBLMC4zAt5"
      },
      "source": [
        "###Lectura de archivos CSV\n"
      ]
    },
    {
      "cell_type": "markdown",
      "metadata": {
        "id": "GxncPtjWC3hC"
      },
      "source": [
        "**MiniChallenge**\n",
        "1. Crear un archivo csv con un tabulador de **,** (coma) y con dos columnas; una con los **nombres** de los integrantes del equipo y la segunda con sus edades.\n",
        "2. Abrir y mostrar la columna de los nombres."
      ]
    },
    {
      "cell_type": "code",
      "metadata": {
        "id": "pvWH-I-RzJag"
      },
      "source": [
        "import csv"
      ],
      "execution_count": 2,
      "outputs": []
    },
    {
      "cell_type": "code",
      "metadata": {
        "id": "atGgqqbc1Va_"
      },
      "source": [
        "#Crea y Escribe tu CSV aqui\n",
        "\n",
        "with open('file.csv', mode = 'w') as csv_file:\n",
        "  csv_writer = csv.writer(csv_file)  \n",
        "  csv_writer.writerow(['ID', 'Name', 'Age'])          \n",
        "  csv_writer.writerow(['1', 'Joseph', '23'])\n",
        "  csv_writer.writerow(['2', 'Johel', '26'])\n",
        "  csv_writer.writerow(['3', 'Alex', '22'])"
      ],
      "execution_count": 3,
      "outputs": []
    },
    {
      "cell_type": "code",
      "metadata": {
        "id": "Jqk9w5sieC0G",
        "colab": {
          "base_uri": "https://localhost:8080/"
        },
        "outputId": "7a14674f-99f3-439c-e00b-8ed1f0773512"
      },
      "source": [
        "#Lee tu CSV aqui \n",
        "with open('file.csv', mode = 'r') as csv_file:\n",
        "  csv_reader = csv.reader(csv_file)\n",
        "  \n",
        "  for row in csv_reader:\n",
        "    print(row)\n",
        "\n"
      ],
      "execution_count": 4,
      "outputs": [
        {
          "output_type": "stream",
          "name": "stdout",
          "text": [
            "['ID', 'Name', 'Age']\n",
            "['1', 'Joseph', '23']\n",
            "['2', 'Johel', '26']\n",
            "['3', 'Alex', '22']\n"
          ]
        }
      ]
    },
    {
      "cell_type": "code",
      "metadata": {
        "id": "oU_eocI-eNYX",
        "colab": {
          "base_uri": "https://localhost:8080/"
        },
        "outputId": "2699a01d-c428-4dda-f538-c1b74606b81e"
      },
      "source": [
        "#Muestra el contenido de la columna aqui\n",
        "rows_list = []  \n",
        "\n",
        "with open('file.csv') as csv_file:\n",
        "    csv_reader = csv.reader(csv_file, delimiter = ',')   \n",
        "    for row in csv_reader:\n",
        "      rows_list.append(row)\n",
        "\n",
        "for row in rows_list:\n",
        "  print(row[1])\n"
      ],
      "execution_count": 5,
      "outputs": [
        {
          "output_type": "stream",
          "name": "stdout",
          "text": [
            "Name\n",
            "Joseph\n",
            "Johel\n",
            "Alex\n"
          ]
        }
      ]
    },
    {
      "cell_type": "markdown",
      "metadata": {
        "id": "tKTXFzaPzKJq"
      },
      "source": [
        "###Lectura y exploracion de archivo CSV con Pandas"
      ]
    },
    {
      "cell_type": "markdown",
      "metadata": {
        "id": "hBLx76OvzbzE"
      },
      "source": [
        "\n",
        "[Pandas](https://pandas.pydata.org) es un módulo externo en Python que provee de herramientas para el análisis y manipulación de datos comúnmente utilizado en *Data Science* debido a que es rápido, poderoso, flexible y fácil de utilizar."
      ]
    },
    {
      "cell_type": "markdown",
      "metadata": {
        "id": "7kECivjM2aAM"
      },
      "source": [
        "Una de las principales ventajas de utilizar un DataFrame en lugar de una estructura de datos convencional de Python es el acceso a funcionalidades de uso frecuente. Una de estas es la posibilidad de realizar operaciones de agregación (metodos) sobre las columnas.\n",
        "\n",
        "Existen 13 funciones de agregación (metodos) incluidas en Pandas:\n",
        "1. `mean()`: Calcula el promedio.\n",
        "1. `sum()`: Calcula la suma.\n",
        "1. `size()`: Calcula el tamaño.\n",
        "1. `count()`: Calcula el tamaño ignorando valores vacíos.\n",
        "1. `std()`: Calcula la desviación estándar.\n",
        "1. `var()`: Calcula la varianza.\n",
        "1. `sem()`: Calcula el error estándar de los valores promedio.\n",
        "1. `describe()`: Genera estadísticas descriptivas (promedio, desviación estándar, mínimo, máximo, quartiles).\n",
        "1. `first():` Devuelve el primer elemento.\n",
        "1. `last()`: Devuelve el último elemento.\n",
        "1. `nth()` : Devuel el n-ésimo elemento para un valor de `n` entero, o un subconjunto si `n` es una lista.\n",
        "1. `min()`: Calcula el mínimo.\n",
        "1. `max()`: Calcula el máximo."
      ]
    },
    {
      "cell_type": "markdown",
      "metadata": {
        "id": "vpkKmPR2eoaX"
      },
      "source": [
        "**MiniChallenge**\n",
        "1. Entra a Kaggle, descarga el archivo [water_potability.csv](https://www.kaggle.com/adityakadiwal/water-potability?select=water_potability.csv) y subelo a tu carpeta de Files\n",
        "2. Importar la base de datos con pandas al notebook\n",
        "3. Mostrar la columna 'Turbidity'\n",
        "4. Sacar promedio de la columna 'Ph'"
      ]
    },
    {
      "cell_type": "code",
      "metadata": {
        "id": "pOuoVhVyzVhS"
      },
      "source": [
        "import pandas as pd"
      ],
      "execution_count": 6,
      "outputs": []
    },
    {
      "cell_type": "code",
      "metadata": {
        "id": "3VFVVl1rzf4n",
        "colab": {
          "base_uri": "https://localhost:8080/",
          "height": 424
        },
        "outputId": "682f25a4-651e-42f7-b11f-01a0c9ec55ed"
      },
      "source": [
        "df_water = pd.read_csv('water_potability.csv')\n",
        "df_water"
      ],
      "execution_count": 12,
      "outputs": [
        {
          "output_type": "execute_result",
          "data": {
            "text/plain": [
              "            ph    Hardness        Solids  Chloramines     Sulfate  \\\n",
              "0          NaN  204.890455  20791.318981     7.300212  368.516441   \n",
              "1     3.716080  129.422921  18630.057858     6.635246         NaN   \n",
              "2     8.099124  224.236259  19909.541732     9.275884         NaN   \n",
              "3     8.316766  214.373394  22018.417441     8.059332  356.886136   \n",
              "4     9.092223  181.101509  17978.986339     6.546600  310.135738   \n",
              "...        ...         ...           ...          ...         ...   \n",
              "3271  4.668102  193.681735  47580.991603     7.166639  359.948574   \n",
              "3272  7.808856  193.553212  17329.802160     8.061362         NaN   \n",
              "3273  9.419510  175.762646  33155.578218     7.350233         NaN   \n",
              "3274  5.126763  230.603758  11983.869376     6.303357         NaN   \n",
              "3275  7.874671  195.102299  17404.177061     7.509306         NaN   \n",
              "\n",
              "      Conductivity  Organic_carbon  Trihalomethanes  Turbidity  Potability  \n",
              "0       564.308654       10.379783        86.990970   2.963135           0  \n",
              "1       592.885359       15.180013        56.329076   4.500656           0  \n",
              "2       418.606213       16.868637        66.420093   3.055934           0  \n",
              "3       363.266516       18.436524       100.341674   4.628771           0  \n",
              "4       398.410813       11.558279        31.997993   4.075075           0  \n",
              "...            ...             ...              ...        ...         ...  \n",
              "3271    526.424171       13.894419        66.687695   4.435821           1  \n",
              "3272    392.449580       19.903225              NaN   2.798243           1  \n",
              "3273    432.044783       11.039070        69.845400   3.298875           1  \n",
              "3274    402.883113       11.168946        77.488213   4.708658           1  \n",
              "3275    327.459760       16.140368        78.698446   2.309149           1  \n",
              "\n",
              "[3276 rows x 10 columns]"
            ],
            "text/html": [
              "\n",
              "  <div id=\"df-08768d5e-d09f-4cbc-b2a9-5b895f187b4f\">\n",
              "    <div class=\"colab-df-container\">\n",
              "      <div>\n",
              "<style scoped>\n",
              "    .dataframe tbody tr th:only-of-type {\n",
              "        vertical-align: middle;\n",
              "    }\n",
              "\n",
              "    .dataframe tbody tr th {\n",
              "        vertical-align: top;\n",
              "    }\n",
              "\n",
              "    .dataframe thead th {\n",
              "        text-align: right;\n",
              "    }\n",
              "</style>\n",
              "<table border=\"1\" class=\"dataframe\">\n",
              "  <thead>\n",
              "    <tr style=\"text-align: right;\">\n",
              "      <th></th>\n",
              "      <th>ph</th>\n",
              "      <th>Hardness</th>\n",
              "      <th>Solids</th>\n",
              "      <th>Chloramines</th>\n",
              "      <th>Sulfate</th>\n",
              "      <th>Conductivity</th>\n",
              "      <th>Organic_carbon</th>\n",
              "      <th>Trihalomethanes</th>\n",
              "      <th>Turbidity</th>\n",
              "      <th>Potability</th>\n",
              "    </tr>\n",
              "  </thead>\n",
              "  <tbody>\n",
              "    <tr>\n",
              "      <th>0</th>\n",
              "      <td>NaN</td>\n",
              "      <td>204.890455</td>\n",
              "      <td>20791.318981</td>\n",
              "      <td>7.300212</td>\n",
              "      <td>368.516441</td>\n",
              "      <td>564.308654</td>\n",
              "      <td>10.379783</td>\n",
              "      <td>86.990970</td>\n",
              "      <td>2.963135</td>\n",
              "      <td>0</td>\n",
              "    </tr>\n",
              "    <tr>\n",
              "      <th>1</th>\n",
              "      <td>3.716080</td>\n",
              "      <td>129.422921</td>\n",
              "      <td>18630.057858</td>\n",
              "      <td>6.635246</td>\n",
              "      <td>NaN</td>\n",
              "      <td>592.885359</td>\n",
              "      <td>15.180013</td>\n",
              "      <td>56.329076</td>\n",
              "      <td>4.500656</td>\n",
              "      <td>0</td>\n",
              "    </tr>\n",
              "    <tr>\n",
              "      <th>2</th>\n",
              "      <td>8.099124</td>\n",
              "      <td>224.236259</td>\n",
              "      <td>19909.541732</td>\n",
              "      <td>9.275884</td>\n",
              "      <td>NaN</td>\n",
              "      <td>418.606213</td>\n",
              "      <td>16.868637</td>\n",
              "      <td>66.420093</td>\n",
              "      <td>3.055934</td>\n",
              "      <td>0</td>\n",
              "    </tr>\n",
              "    <tr>\n",
              "      <th>3</th>\n",
              "      <td>8.316766</td>\n",
              "      <td>214.373394</td>\n",
              "      <td>22018.417441</td>\n",
              "      <td>8.059332</td>\n",
              "      <td>356.886136</td>\n",
              "      <td>363.266516</td>\n",
              "      <td>18.436524</td>\n",
              "      <td>100.341674</td>\n",
              "      <td>4.628771</td>\n",
              "      <td>0</td>\n",
              "    </tr>\n",
              "    <tr>\n",
              "      <th>4</th>\n",
              "      <td>9.092223</td>\n",
              "      <td>181.101509</td>\n",
              "      <td>17978.986339</td>\n",
              "      <td>6.546600</td>\n",
              "      <td>310.135738</td>\n",
              "      <td>398.410813</td>\n",
              "      <td>11.558279</td>\n",
              "      <td>31.997993</td>\n",
              "      <td>4.075075</td>\n",
              "      <td>0</td>\n",
              "    </tr>\n",
              "    <tr>\n",
              "      <th>...</th>\n",
              "      <td>...</td>\n",
              "      <td>...</td>\n",
              "      <td>...</td>\n",
              "      <td>...</td>\n",
              "      <td>...</td>\n",
              "      <td>...</td>\n",
              "      <td>...</td>\n",
              "      <td>...</td>\n",
              "      <td>...</td>\n",
              "      <td>...</td>\n",
              "    </tr>\n",
              "    <tr>\n",
              "      <th>3271</th>\n",
              "      <td>4.668102</td>\n",
              "      <td>193.681735</td>\n",
              "      <td>47580.991603</td>\n",
              "      <td>7.166639</td>\n",
              "      <td>359.948574</td>\n",
              "      <td>526.424171</td>\n",
              "      <td>13.894419</td>\n",
              "      <td>66.687695</td>\n",
              "      <td>4.435821</td>\n",
              "      <td>1</td>\n",
              "    </tr>\n",
              "    <tr>\n",
              "      <th>3272</th>\n",
              "      <td>7.808856</td>\n",
              "      <td>193.553212</td>\n",
              "      <td>17329.802160</td>\n",
              "      <td>8.061362</td>\n",
              "      <td>NaN</td>\n",
              "      <td>392.449580</td>\n",
              "      <td>19.903225</td>\n",
              "      <td>NaN</td>\n",
              "      <td>2.798243</td>\n",
              "      <td>1</td>\n",
              "    </tr>\n",
              "    <tr>\n",
              "      <th>3273</th>\n",
              "      <td>9.419510</td>\n",
              "      <td>175.762646</td>\n",
              "      <td>33155.578218</td>\n",
              "      <td>7.350233</td>\n",
              "      <td>NaN</td>\n",
              "      <td>432.044783</td>\n",
              "      <td>11.039070</td>\n",
              "      <td>69.845400</td>\n",
              "      <td>3.298875</td>\n",
              "      <td>1</td>\n",
              "    </tr>\n",
              "    <tr>\n",
              "      <th>3274</th>\n",
              "      <td>5.126763</td>\n",
              "      <td>230.603758</td>\n",
              "      <td>11983.869376</td>\n",
              "      <td>6.303357</td>\n",
              "      <td>NaN</td>\n",
              "      <td>402.883113</td>\n",
              "      <td>11.168946</td>\n",
              "      <td>77.488213</td>\n",
              "      <td>4.708658</td>\n",
              "      <td>1</td>\n",
              "    </tr>\n",
              "    <tr>\n",
              "      <th>3275</th>\n",
              "      <td>7.874671</td>\n",
              "      <td>195.102299</td>\n",
              "      <td>17404.177061</td>\n",
              "      <td>7.509306</td>\n",
              "      <td>NaN</td>\n",
              "      <td>327.459760</td>\n",
              "      <td>16.140368</td>\n",
              "      <td>78.698446</td>\n",
              "      <td>2.309149</td>\n",
              "      <td>1</td>\n",
              "    </tr>\n",
              "  </tbody>\n",
              "</table>\n",
              "<p>3276 rows × 10 columns</p>\n",
              "</div>\n",
              "      <button class=\"colab-df-convert\" onclick=\"convertToInteractive('df-08768d5e-d09f-4cbc-b2a9-5b895f187b4f')\"\n",
              "              title=\"Convert this dataframe to an interactive table.\"\n",
              "              style=\"display:none;\">\n",
              "        \n",
              "  <svg xmlns=\"http://www.w3.org/2000/svg\" height=\"24px\"viewBox=\"0 0 24 24\"\n",
              "       width=\"24px\">\n",
              "    <path d=\"M0 0h24v24H0V0z\" fill=\"none\"/>\n",
              "    <path d=\"M18.56 5.44l.94 2.06.94-2.06 2.06-.94-2.06-.94-.94-2.06-.94 2.06-2.06.94zm-11 1L8.5 8.5l.94-2.06 2.06-.94-2.06-.94L8.5 2.5l-.94 2.06-2.06.94zm10 10l.94 2.06.94-2.06 2.06-.94-2.06-.94-.94-2.06-.94 2.06-2.06.94z\"/><path d=\"M17.41 7.96l-1.37-1.37c-.4-.4-.92-.59-1.43-.59-.52 0-1.04.2-1.43.59L10.3 9.45l-7.72 7.72c-.78.78-.78 2.05 0 2.83L4 21.41c.39.39.9.59 1.41.59.51 0 1.02-.2 1.41-.59l7.78-7.78 2.81-2.81c.8-.78.8-2.07 0-2.86zM5.41 20L4 18.59l7.72-7.72 1.47 1.35L5.41 20z\"/>\n",
              "  </svg>\n",
              "      </button>\n",
              "      \n",
              "  <style>\n",
              "    .colab-df-container {\n",
              "      display:flex;\n",
              "      flex-wrap:wrap;\n",
              "      gap: 12px;\n",
              "    }\n",
              "\n",
              "    .colab-df-convert {\n",
              "      background-color: #E8F0FE;\n",
              "      border: none;\n",
              "      border-radius: 50%;\n",
              "      cursor: pointer;\n",
              "      display: none;\n",
              "      fill: #1967D2;\n",
              "      height: 32px;\n",
              "      padding: 0 0 0 0;\n",
              "      width: 32px;\n",
              "    }\n",
              "\n",
              "    .colab-df-convert:hover {\n",
              "      background-color: #E2EBFA;\n",
              "      box-shadow: 0px 1px 2px rgba(60, 64, 67, 0.3), 0px 1px 3px 1px rgba(60, 64, 67, 0.15);\n",
              "      fill: #174EA6;\n",
              "    }\n",
              "\n",
              "    [theme=dark] .colab-df-convert {\n",
              "      background-color: #3B4455;\n",
              "      fill: #D2E3FC;\n",
              "    }\n",
              "\n",
              "    [theme=dark] .colab-df-convert:hover {\n",
              "      background-color: #434B5C;\n",
              "      box-shadow: 0px 1px 3px 1px rgba(0, 0, 0, 0.15);\n",
              "      filter: drop-shadow(0px 1px 2px rgba(0, 0, 0, 0.3));\n",
              "      fill: #FFFFFF;\n",
              "    }\n",
              "  </style>\n",
              "\n",
              "      <script>\n",
              "        const buttonEl =\n",
              "          document.querySelector('#df-08768d5e-d09f-4cbc-b2a9-5b895f187b4f button.colab-df-convert');\n",
              "        buttonEl.style.display =\n",
              "          google.colab.kernel.accessAllowed ? 'block' : 'none';\n",
              "\n",
              "        async function convertToInteractive(key) {\n",
              "          const element = document.querySelector('#df-08768d5e-d09f-4cbc-b2a9-5b895f187b4f');\n",
              "          const dataTable =\n",
              "            await google.colab.kernel.invokeFunction('convertToInteractive',\n",
              "                                                     [key], {});\n",
              "          if (!dataTable) return;\n",
              "\n",
              "          const docLinkHtml = 'Like what you see? Visit the ' +\n",
              "            '<a target=\"_blank\" href=https://colab.research.google.com/notebooks/data_table.ipynb>data table notebook</a>'\n",
              "            + ' to learn more about interactive tables.';\n",
              "          element.innerHTML = '';\n",
              "          dataTable['output_type'] = 'display_data';\n",
              "          await google.colab.output.renderOutput(dataTable, element);\n",
              "          const docLink = document.createElement('div');\n",
              "          docLink.innerHTML = docLinkHtml;\n",
              "          element.appendChild(docLink);\n",
              "        }\n",
              "      </script>\n",
              "    </div>\n",
              "  </div>\n",
              "  "
            ]
          },
          "metadata": {},
          "execution_count": 12
        }
      ]
    },
    {
      "cell_type": "code",
      "metadata": {
        "id": "w3t3Omv0e0Q6",
        "colab": {
          "base_uri": "https://localhost:8080/"
        },
        "outputId": "44b6473e-9245-44ac-8414-5867391dbda6"
      },
      "source": [
        " df_water['Turbidity']"
      ],
      "execution_count": 13,
      "outputs": [
        {
          "output_type": "execute_result",
          "data": {
            "text/plain": [
              "0       2.963135\n",
              "1       4.500656\n",
              "2       3.055934\n",
              "3       4.628771\n",
              "4       4.075075\n",
              "          ...   \n",
              "3271    4.435821\n",
              "3272    2.798243\n",
              "3273    3.298875\n",
              "3274    4.708658\n",
              "3275    2.309149\n",
              "Name: Turbidity, Length: 3276, dtype: float64"
            ]
          },
          "metadata": {},
          "execution_count": 13
        }
      ]
    },
    {
      "cell_type": "code",
      "metadata": {
        "id": "yIScX4zMe0DU",
        "colab": {
          "base_uri": "https://localhost:8080/"
        },
        "outputId": "c28d3e2c-90c1-48d6-d3f2-1d82665044fd"
      },
      "source": [
        "df_water['ph'].mean()"
      ],
      "execution_count": 15,
      "outputs": [
        {
          "output_type": "execute_result",
          "data": {
            "text/plain": [
              "7.080794504276819"
            ]
          },
          "metadata": {},
          "execution_count": 15
        }
      ]
    },
    {
      "cell_type": "markdown",
      "metadata": {
        "id": "AgK938AnzzNT"
      },
      "source": [
        "###Accediendo a Páginas Web "
      ]
    },
    {
      "cell_type": "markdown",
      "metadata": {
        "id": "mp9uNQ6Te7sF"
      },
      "source": [
        "**MiniChallenge**\n",
        "1. Accedemos a Project Gutemberg y elegir el libro de tu preferencia en formato txt https://www.gutenberg.org/\n",
        "2. leer el libro elegido\n",
        "3. Mostrar los primeros 5000 caracteres"
      ]
    },
    {
      "cell_type": "code",
      "metadata": {
        "id": "CMDCXjpI0F6e"
      },
      "source": [
        "import urllib.request"
      ],
      "execution_count": 16,
      "outputs": []
    },
    {
      "cell_type": "code",
      "metadata": {
        "id": "kcG7p5km1IeL"
      },
      "source": [
        "url = 'https://www.gutenberg.org/cache/epub/68312/pg68312.txt'\n",
        "response = urllib.request.urlopen(url)\n",
        "Sous_les_eaux_tumultueutes = response.read().decode()\n"
      ],
      "execution_count": 19,
      "outputs": []
    },
    {
      "cell_type": "code",
      "source": [
        "print(Sous_les_eaux_tumultueutes[0:5000])"
      ],
      "metadata": {
        "colab": {
          "base_uri": "https://localhost:8080/"
        },
        "id": "PCR7ekSCXUXQ",
        "outputId": "ae975357-8d64-4215-e271-b00bda51da42"
      },
      "execution_count": 20,
      "outputs": [
        {
          "output_type": "stream",
          "name": "stdout",
          "text": [
            "﻿The Project Gutenberg eBook of Sous les eaux tumultueutes, by Dora\r\n",
            "Melegari\r\n",
            "\r\n",
            "This eBook is for the use of anyone anywhere in the United States and\r\n",
            "most other parts of the world at no cost and with almost no restrictions\r\n",
            "whatsoever. You may copy it, give it away or re-use it under the terms\r\n",
            "of the Project Gutenberg License included with this eBook or online at\r\n",
            "www.gutenberg.org. If you are not located in the United States, you\r\n",
            "will have to check the laws of the country where you are located before\r\n",
            "using this eBook.\r\n",
            "\r\n",
            "Title: Sous les eaux tumultueutes\r\n",
            "\r\n",
            "Author: Dora Melegari\r\n",
            "\r\n",
            "Release Date: June 14, 2022 [eBook #68312]\r\n",
            "\r\n",
            "Language: French\r\n",
            "\r\n",
            "Produced by: Laurent Vogel, Chuck Greif and the Online Distributed\r\n",
            "             Proofreading Team at https://www.pgdp.net (This file was\r\n",
            "             produced from images generously made available by the\r\n",
            "             Bibliothèque nationale de France (BnF/Gallica))\r\n",
            "\r\n",
            "*** START OF THE PROJECT GUTENBERG EBOOK SOUS LES EAUX\r\n",
            "TUMULTUEUTES ***\r\n",
            "\r\n",
            "\r\n",
            "\r\n",
            "\r\n",
            "\r\n",
            "                      SOUS LES EAUX TUMULTUEUSES\r\n",
            "\r\n",
            "\r\n",
            "\r\n",
            "\r\n",
            "                             DORA MELEGARI\r\n",
            "\r\n",
            "                             SOUS LES EAUX\r\n",
            "                             TUMULTUEUSES\r\n",
            "\r\n",
            "                       [Illustration: colophon]\r\n",
            "\r\n",
            "                                 PARIS\r\n",
            "                         LIBRAIRIE FISCHBACHER\r\n",
            "                         33, RUE DE SEINE, 33\r\n",
            "\r\n",
            "                                 1923\r\n",
            "\r\n",
            "  Droits de traduction et de reproduction réservés pour tous les pays\r\n",
            "                Copyright by Librairie Fischbacher 1923\r\n",
            "\r\n",
            "\r\n",
            "_Je dédie ce livre à ceux qui, comme moi, ont fermement espéré et\r\n",
            "espèrent encore qu’après la guerre et avec l’établissement de la paix,\r\n",
            "s’ouvrira pour l’homme une destinée meilleure que celle qu’il a connue\r\n",
            "jusqu’ici._\r\n",
            "\r\n",
            "\r\n",
            "\r\n",
            "\r\n",
            "PRÉFACE\r\n",
            "\r\n",
            "    Je ne fais pas un livre, il se fait.\r\n",
            "    Il mûrit et croît dans ma tête, comme un fruit.\r\n",
            "               ALFRED DE VIGNY.\r\n",
            "\r\n",
            "\r\n",
            "Ces eaux qui, jadis, couvraient le monde sont aujourd’hui étrangement\r\n",
            "bourbeuses et agitées. La surface des choses apparaît partout\r\n",
            "inquiétante. Qu’y a-t-il sous cette surface? L’angoissante question se\r\n",
            "pose à tous les cœurs qui sentent et à tous les cerveaux qui\r\n",
            "réfléchissent!\r\n",
            "\r\n",
            "Du temps où le respect de soi-même, l’intérêt bien entendu et la savante\r\n",
            "hypocrisie imposaient aux hommes intelligents, ou du moins cultivés,\r\n",
            "une attitude correcte, les mots _sous la surface des choses_ avaient une\r\n",
            "signification bien différente de celle que je leur attribue aujourd’hui.\r\n",
            "\r\n",
            "Auparavant, ils auraient indiqué ce que les individus cachaient de\r\n",
            "médiocre, de brutal, et même de cruel sous des dehors corrects et\r\n",
            "conventionnels. Aujourd’hui que la plupart des êtres n’essayent même\r\n",
            "plus de masquer leurs légèretés, leurs petitesses et leurs convoitises,\r\n",
            "il n’y a guère, sous leurs actes et leurs allures, de motifs secrets à\r\n",
            "découvrir.\r\n",
            "\r\n",
            "Toutes les laideurs sont devenues apparentes et visibles. Nous vivons à\r\n",
            "une époque de terrible sincérité; on ne le relève pas suffisamment.\r\n",
            "\r\n",
            "Stendhal a dit quelque part que, pour les femmes, dire la vérité\r\n",
            "équivalait à enlever leur fichu; mais, aujourd’hui, elles ne portent\r\n",
            "plus de fichu, et les disgraciées elles-mêmes exposent avec courage les\r\n",
            "défectuosités physiques que jadis les filles d’Ève essayaient\r\n",
            "soigneusement de dissimuler aux regards. Quant aux hommes, combien\r\n",
            "d’entre eux ne tentent même plus de se défendre si l’on attaque leur\r\n",
            "caractère ou leur probité!\r\n",
            "\r\n",
            "Ceux qui en manquent n’en éprouvent plus de honte; ceux qui les\r\n",
            "possèdent, s’ils y mettent encore du prix dans le fond de leur âme, sont\r\n",
            "devenus indifférents à l’opinion publique. Ce mépris de l’opinion\r\n",
            "publique est un signe caractéristique de notre temps.\r\n",
            "\r\n",
            "       *       *       *       *       *\r\n",
            "\r\n",
            "Ce qu’il faut discerner sous la surface des eaux tumultueuses, ce ne\r\n",
            "sont donc pas les laideurs secrètes, puisqu’avec tant de complaisances\r\n",
            "on les étale, mais bien plutôt les aspirations d’ardente générosité et\r\n",
            "de pure beauté qui se cachent parfois sous les apparences déconcertantes\r\n",
            "de la psyché moderne, tels des symptômes annonciateurs d’une aube\r\n",
            "nouvelle!\r\n",
            "\r\n",
            "Cependant, malgré ces fugitives lueurs, le désarroi des pauvres âmes est\r\n",
            "resté lamentable. Après l’ébranlement cérébral de la guerre et les\r\n",
            "déceptions de la paix, on a pu croire qu’elles étaient devenues muettes\r\n",
            "pour toujours! Ce phénomène d’anéantissement paraît d’autant plus\r\n",
            "redoutable qu’il est universel et se manifeste aussi bien chez les\r\n",
            "vainqueurs que chez les vaincus! Le monde est devenu semblable à une mer\r\n",
            "en tempête, sillonnée de barques sans pilotes, et la marée ne cesse de\r\n",
            "monter...\r\n",
            "\r\n",
            "Le spectacle, vraiment effarant, abat les plus fermes courages. Une\r\n",
            "mystérieuse intuition avertit cependant ceux qui ont l’habitude de\r\n",
            "regarder et d’observer que des feux s’allument encore sur les montagnes,\r\n",
            "et que de ce chaos effrayant, de ce déchaînement de convoitises\r\n",
            "violentes, naîtra un monde meilleur, précurseur du règne de l’espri\n"
          ]
        }
      ]
    },
    {
      "cell_type": "markdown",
      "metadata": {
        "id": "I_FHDNj-0Hds"
      },
      "source": [
        "###Manipulacion de JSON con Python"
      ]
    },
    {
      "cell_type": "markdown",
      "metadata": {
        "id": "7hirxJVp0ras"
      },
      "source": [
        "JavaScript Object Notation (JSON) El formato mas utilizado para trasferir informacion (intercambio de datos a través de la web)"
      ]
    },
    {
      "cell_type": "markdown",
      "metadata": {
        "id": "N9v6TwUJbW6S"
      },
      "source": [
        "**MiniChallenge**\n",
        " \n",
        "1. Busquemos acceder a las 'description' del json"
      ]
    },
    {
      "cell_type": "code",
      "metadata": {
        "id": "Fto6srjpbWlX"
      },
      "source": [
        "import json"
      ],
      "execution_count": 21,
      "outputs": []
    },
    {
      "cell_type": "code",
      "metadata": {
        "id": "O9Jh6m1C0cPV"
      },
      "source": [
        "otro_JSON='''\n",
        "{\n",
        "    \"marcadores\": [\n",
        "      {\n",
        "        \"latitude\": 40.416875,\n",
        "        \"longitude\": -3.703308,\n",
        "        \"city\": \"Madrid\",\n",
        "        \"description\": \"Puerta del Sol\"\n",
        "      },\n",
        "      {\n",
        "        \"latitude\": 40.417438,\n",
        "        \"longitude\": -3.693363,\n",
        "        \"city\": \"Madrid\",\n",
        "        \"description\": \"Paseo del Prado\"\n",
        "      },\n",
        "      {\n",
        "        \"latitude\": 40.407015,\n",
        "        \"longitude\": -3.691163,\n",
        "        \"city\": \"Madrid\",\n",
        "        \"description\": \"Estación de Atocha\"\n",
        "      }\n",
        "    ]\n",
        "}\n",
        "\n",
        "'''"
      ],
      "execution_count": 22,
      "outputs": []
    },
    {
      "cell_type": "code",
      "metadata": {
        "id": "vTu7ouo6byvY",
        "colab": {
          "base_uri": "https://localhost:8080/"
        },
        "outputId": "83b4d277-432e-4aea-e776-f7ad416349d3"
      },
      "source": [
        "#Codea aqui para acceder a las 3 description de otro_JSON con ayuda de un for\n",
        "data_json = json.loads(otro_JSON)  \n",
        "data_json\n",
        "#\n",
        "len(data_json['marcadores'])\n",
        "#\n",
        "data_json['marcadores'][0]\n",
        "#\n",
        "for llaves in range(len(data_json['marcadores'])):\n",
        "  print(data_json['marcadores'][llaves]['description'])\n"
      ],
      "execution_count": 23,
      "outputs": [
        {
          "output_type": "stream",
          "name": "stdout",
          "text": [
            "Puerta del Sol\n",
            "Paseo del Prado\n",
            "Estación de Atocha\n"
          ]
        }
      ]
    },
    {
      "cell_type": "markdown",
      "metadata": {
        "id": "vsiz_YdVAMc5"
      },
      "source": [
        "##API"
      ]
    },
    {
      "cell_type": "markdown",
      "metadata": {
        "id": "H75n3VaOBDXR"
      },
      "source": [
        "Minichallenge\n",
        "\n",
        "Haz una consulta a la siguiente API y obten todos los elementos de 'sunrise' del JSON que da como resultado\n",
        "\n",
        "* [Sunrise Sunset](https://sunrise-sunset.org/api)"
      ]
    },
    {
      "cell_type": "code",
      "metadata": {
        "id": "bNqAR_btAOQG"
      },
      "source": [
        "import requests    "
      ],
      "execution_count": 24,
      "outputs": []
    },
    {
      "cell_type": "code",
      "metadata": {
        "id": "5Sf65z0_APCG"
      },
      "source": [
        "url = \"https://api.sunrise-sunset.org/json\"\n",
        "results = requests.get(url)\n",
        "data = results.json()"
      ],
      "execution_count": 25,
      "outputs": []
    },
    {
      "cell_type": "code",
      "source": [
        "data"
      ],
      "metadata": {
        "colab": {
          "base_uri": "https://localhost:8080/"
        },
        "id": "Bd6NXUiPX145",
        "outputId": "ac4c0f2d-184b-4cb0-c18e-1541beb93c8b"
      },
      "execution_count": 26,
      "outputs": [
        {
          "output_type": "execute_result",
          "data": {
            "text/plain": [
              "{'results': {'astronomical_twilight_begin': '4:42:02 AM',\n",
              "  'astronomical_twilight_end': '7:19:24 PM',\n",
              "  'civil_twilight_begin': '5:34:34 AM',\n",
              "  'civil_twilight_end': '6:26:52 PM',\n",
              "  'day_length': '12:09:32',\n",
              "  'nautical_twilight_begin': '5:08:22 AM',\n",
              "  'nautical_twilight_end': '6:53:04 PM',\n",
              "  'solar_noon': '12:00:43 PM',\n",
              "  'sunrise': '5:55:57 AM',\n",
              "  'sunset': '6:05:29 PM'},\n",
              " 'status': 'OK'}"
            ]
          },
          "metadata": {},
          "execution_count": 26
        }
      ]
    },
    {
      "cell_type": "code",
      "source": [
        "data['results'][\"sunrise\"]"
      ],
      "metadata": {
        "colab": {
          "base_uri": "https://localhost:8080/",
          "height": 35
        },
        "id": "QKbhmdxAX4XX",
        "outputId": "c546b5e6-9ec8-4465-8c7e-41fc857df3e2"
      },
      "execution_count": 27,
      "outputs": [
        {
          "output_type": "execute_result",
          "data": {
            "text/plain": [
              "'5:55:57 AM'"
            ],
            "application/vnd.google.colaboratory.intrinsic+json": {
              "type": "string"
            }
          },
          "metadata": {},
          "execution_count": 27
        }
      ]
    }
  ]
}